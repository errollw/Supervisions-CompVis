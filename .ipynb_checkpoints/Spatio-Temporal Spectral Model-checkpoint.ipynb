{
 "cells": [
  {
   "cell_type": "code",
   "execution_count": 1,
   "metadata": {
    "collapsed": false
   },
   "outputs": [
    {
     "name": "stderr",
     "output_type": "stream",
     "text": [
      "WARNING:traits.has_traits:DEPRECATED: traits.has_traits.wrapped_class, 'the 'implements' class advisor has been deprecated. Use the 'provides' class decorator.\n"
     ]
    }
   ],
   "source": [
    "import cv2\n",
    "import numpy as np\n",
    "from mayavi import mlab\n",
    "from IPython.display import Image, display\n",
    "\n",
    "def ipy_imshow(img):\n",
    "    display(Image(data=cv2.imencode(\".png\", img)[1].tostring()))"
   ]
  },
  {
   "cell_type": "code",
   "execution_count": 20,
   "metadata": {
    "collapsed": false
   },
   "outputs": [
    {
     "data": {
      "image/png": "[encoded data removed]",
      "text/plain": [
       "<IPython.core.display.Image object>"
      ]
     },
     "metadata": {},
     "output_type": "display_data"
    },
    {
     "data": {
      "image/png": "[encoded data removed]",
      "text/plain": [
       "<IPython.core.display.Image object>"
      ]
     },
     "metadata": {},
     "output_type": "display_data"
    },
    {
     "data": {
      "image/png": "[encoded data removed]",
      "text/plain": [
       "<IPython.core.display.Image object>"
      ]
     },
     "metadata": {},
     "output_type": "display_data"
    },
    {
     "data": {
      "image/png": "[encoded data removed]",
      "text/plain": [
       "<IPython.core.display.Image object>"
      ]
     },
     "metadata": {},
     "output_type": "display_data"
    },
    {
     "data": {
      "image/png": "[encoded data removed]",
      "text/plain": [
       "<IPython.core.display.Image object>"
      ]
     },
     "metadata": {},
     "output_type": "display_data"
    },
    {
     "data": {
      "image/png": "[encoded data removed]",
      "text/plain": [
       "<IPython.core.display.Image object>"
      ]
     },
     "metadata": {},
     "output_type": "display_data"
    },
    {
     "data": {
      "image/png": "[encoded data removed]",
      "text/plain": [
       "<IPython.core.display.Image object>"
      ]
     },
     "metadata": {},
     "output_type": "display_data"
    },
    {
     "data": {
      "image/png": "[encoded data removed]",
      "text/plain": [
       "<IPython.core.display.Image object>"
      ]
     },
     "metadata": {},
     "output_type": "display_data"
    },
    {
     "data": {
      "image/png": "[encoded data removed]",
      "text/plain": [
       "<IPython.core.display.Image object>"
      ]
     },
     "metadata": {},
     "output_type": "display_data"
    },
    {
     "data": {
      "image/png": "[encoded data removed]",
      "text/plain": [
       "<IPython.core.display.Image object>"
      ]
     },
     "metadata": {},
     "output_type": "display_data"
    },
    {
     "data": {
      "image/png": "[encoded data removed]",
      "text/plain": [
       "<IPython.core.display.Image object>"
      ]
     },
     "metadata": {},
     "output_type": "display_data"
    },
    {
     "data": {
      "image/png": "[encoded data removed]",
      "text/plain": [
       "<IPython.core.display.Image object>"
      ]
     },
     "metadata": {},
     "output_type": "display_data"
    }
   ],
   "source": [
    "x, y = 2, 2\n",
    "dx, dy = 1, 0.5\n",
    "# dx, dy = 0, 0\n",
    "img_size = 32\n",
    "sq_size = 8\n",
    "\n",
    "imgs = []\n",
    "for _ in range(12):\n",
    "    img = np.ones((img_size,img_size))*0.5\n",
    "    img[y:y+sq_size,x:x+sq_size] = 1\n",
    "    ipy_imshow(img*255)\n",
    "    \n",
    "    imgs.append(img)\n",
    "    \n",
    "    x+= dx\n",
    "    y+= dy\n",
    "    \n",
    "imgs = np.dstack(imgs)"
   ]
  },
  {
   "cell_type": "code",
   "execution_count": 21,
   "metadata": {
    "collapsed": false
   },
   "outputs": [],
   "source": [
    "# points3d(x, y, z, s, colormap=\"copper\", scale_factor=.25)\n",
    "\n",
    "x = np.arange(imgs.shape[0])\n",
    "y = np.arange(imgs.shape[1])\n",
    "z = np.arange(imgs.shape[2])\n",
    "\n",
    "# print np.meshgrid(x, y, z)\n",
    "\n",
    "row, col, dpt = np.indices(imgs.shape)\n",
    "\n",
    "def f(x,y,z):\n",
    "    return imgs[x,y,z]\n",
    "\n",
    "mlab.points3d(row, col, dpt, f, opacity=0.1, colormap=\"black-white\", scale_factor=1.0, vmin=0, vmax=1)\n",
    "mlab.show()"
   ]
  },
  {
   "cell_type": "code",
   "execution_count": 30,
   "metadata": {
    "collapsed": false
   },
   "outputs": [
    {
     "name": "stdout",
     "output_type": "stream",
     "text": [
      "-inf\n"
     ]
    },
    {
     "name": "stderr",
     "output_type": "stream",
     "text": [
      "C:\\Users\\Erroll\\AppData\\Local\\Enthought\\Canopy\\User\\lib\\site-packages\\IPython\\kernel\\__main__.py:2: RuntimeWarning: divide by zero encountered in log\n",
      "  from IPython.kernel.zmq import kernelapp as app\n"
     ]
    }
   ],
   "source": [
    "fft = np.absolute(np.fft.fftn(imgs))\n",
    "fft = np.fft.fftshift(fft)\n",
    "\n",
    "def f(x,y,z):\n",
    "    return fft[x,y,z]\n",
    "\n",
    "mlab.points3d(row, col, dpt, f, opacity=0.1, colormap=\"blue-red \", scale_factor=0.2, scale_mode=\"none\", vmin=0, vmax=1000)\n",
    "mlab.show()\n",
    "\n",
    "print np.mean(fft)"
   ]
  },
  {
   "cell_type": "code",
   "execution_count": null,
   "metadata": {
    "collapsed": true
   },
   "outputs": [],
   "source": []
  }
 ],
 "metadata": {
  "kernelspec": {
   "display_name": "Python 2",
   "language": "python",
   "name": "python2"
  },
  "language_info": {
   "codemirror_mode": {
    "name": "ipython",
    "version": 2
   },
   "file_extension": ".py",
   "mimetype": "text/x-python",
   "name": "python",
   "nbconvert_exporter": "python",
   "pygments_lexer": "ipython2",
   "version": "2.7.6"
  }
 },
 "nbformat": 4,
 "nbformat_minor": 0
}
